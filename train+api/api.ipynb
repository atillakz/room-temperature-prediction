{
 "cells": [
  {
   "cell_type": "code",
   "execution_count": 32,
   "metadata": {},
   "outputs": [],
   "source": [
    "import codecs\n",
    "import json\n",
    "\n",
    "import numpy as np\n",
    "import pandas as pd\n",
    "from sklearn.model_selection import train_test_split\n",
    "from sklearn.preprocessing import MinMaxScaler\n",
    "import requests\n",
    "#%%\n",
    "df = pd.read_csv(\"final.csv\")\n",
    "#%%\n",
    "df = df.set_index('time')\n",
    "#%%\n",
    "x = df.drop('t+1', axis = 1)\n",
    "y = df['t+1']\n",
    "#%%\n",
    "y=np.reshape(y.values, (-1,1))\n",
    "\n"
   ]
  },
  {
   "cell_type": "code",
   "execution_count": 33,
   "metadata": {},
   "outputs": [
    {
     "name": "stdout",
     "output_type": "stream",
     "text": [
      "MinMaxScaler(copy=True, feature_range=(0, 1))\n",
      "MinMaxScaler(copy=True, feature_range=(0, 1))\n"
     ]
    },
    {
     "name": "stderr",
     "output_type": "stream",
     "text": [
      "C:\\Users\\RKussaiynov\\AppData\\Local\\Continuum\\anaconda3\\lib\\site-packages\\sklearn\\preprocessing\\data.py:334: DataConversionWarning: Data with input dtype int64 were all converted to float64 by MinMaxScaler.\n",
      "  return self.partial_fit(X, y)\n"
     ]
    }
   ],
   "source": [
    "#%%\n",
    "scaler_x = MinMaxScaler()\n",
    "scaler_y = MinMaxScaler()\n",
    "print(scaler_x.fit(x))\n",
    "xscale=scaler_x.transform(x)\n",
    "print(scaler_y.fit(y))\n",
    "yscale=scaler_y.transform(y)\n",
    "#%%\n",
    "\n",
    "sData = xscale[0:1]\n",
    "np_array_to_list = sData.tolist()\n",
    "data = json.dumps(np_array_to_list)\n"
   ]
  },
  {
   "cell_type": "code",
   "execution_count": 34,
   "metadata": {},
   "outputs": [],
   "source": [
    "jack = x.head(1)"
   ]
  },
  {
   "cell_type": "code",
   "execution_count": 35,
   "metadata": {},
   "outputs": [
    {
     "data": {
      "text/html": [
       "<div>\n",
       "<style scoped>\n",
       "    .dataframe tbody tr th:only-of-type {\n",
       "        vertical-align: middle;\n",
       "    }\n",
       "\n",
       "    .dataframe tbody tr th {\n",
       "        vertical-align: top;\n",
       "    }\n",
       "\n",
       "    .dataframe thead th {\n",
       "        text-align: right;\n",
       "    }\n",
       "</style>\n",
       "<table border=\"1\" class=\"dataframe\">\n",
       "  <thead>\n",
       "    <tr style=\"text-align: right;\">\n",
       "      <th></th>\n",
       "      <th>t</th>\n",
       "      <th>cond1_off</th>\n",
       "      <th>cond1_on16h</th>\n",
       "      <th>cond1_on16l</th>\n",
       "      <th>cond1_on23h</th>\n",
       "      <th>cond1_on23l</th>\n",
       "      <th>cond1_on30l</th>\n",
       "      <th>cond1_on30m</th>\n",
       "      <th>cond2_off</th>\n",
       "      <th>cond2_on16h</th>\n",
       "      <th>cond2_on16l</th>\n",
       "      <th>cond2_on16m</th>\n",
       "      <th>cond2_on23h</th>\n",
       "      <th>cond2_on23l</th>\n",
       "      <th>cond2_on23m</th>\n",
       "      <th>cond2_on30h</th>\n",
       "      <th>cond2_on30l</th>\n",
       "      <th>cond2_on30m</th>\n",
       "    </tr>\n",
       "    <tr>\n",
       "      <th>time</th>\n",
       "      <th></th>\n",
       "      <th></th>\n",
       "      <th></th>\n",
       "      <th></th>\n",
       "      <th></th>\n",
       "      <th></th>\n",
       "      <th></th>\n",
       "      <th></th>\n",
       "      <th></th>\n",
       "      <th></th>\n",
       "      <th></th>\n",
       "      <th></th>\n",
       "      <th></th>\n",
       "      <th></th>\n",
       "      <th></th>\n",
       "      <th></th>\n",
       "      <th></th>\n",
       "      <th></th>\n",
       "    </tr>\n",
       "  </thead>\n",
       "  <tbody>\n",
       "    <tr>\n",
       "      <th>2019-06-11 16:11:05.197736</th>\n",
       "      <td>24</td>\n",
       "      <td>0</td>\n",
       "      <td>0</td>\n",
       "      <td>0</td>\n",
       "      <td>1</td>\n",
       "      <td>0</td>\n",
       "      <td>0</td>\n",
       "      <td>0</td>\n",
       "      <td>0</td>\n",
       "      <td>1</td>\n",
       "      <td>0</td>\n",
       "      <td>0</td>\n",
       "      <td>0</td>\n",
       "      <td>0</td>\n",
       "      <td>0</td>\n",
       "      <td>0</td>\n",
       "      <td>0</td>\n",
       "      <td>0</td>\n",
       "    </tr>\n",
       "  </tbody>\n",
       "</table>\n",
       "</div>"
      ],
      "text/plain": [
       "                             t  cond1_off  cond1_on16h  cond1_on16l  \\\n",
       "time                                                                  \n",
       "2019-06-11 16:11:05.197736  24          0            0            0   \n",
       "\n",
       "                            cond1_on23h  cond1_on23l  cond1_on30l  \\\n",
       "time                                                                \n",
       "2019-06-11 16:11:05.197736            1            0            0   \n",
       "\n",
       "                            cond1_on30m  cond2_off  cond2_on16h  cond2_on16l  \\\n",
       "time                                                                           \n",
       "2019-06-11 16:11:05.197736            0          0            1            0   \n",
       "\n",
       "                            cond2_on16m  cond2_on23h  cond2_on23l  \\\n",
       "time                                                                \n",
       "2019-06-11 16:11:05.197736            0            0            0   \n",
       "\n",
       "                            cond2_on23m  cond2_on30h  cond2_on30l  cond2_on30m  \n",
       "time                                                                            \n",
       "2019-06-11 16:11:05.197736            0            0            0            0  "
      ]
     },
     "execution_count": 35,
     "metadata": {},
     "output_type": "execute_result"
    }
   ],
   "source": [
    "jack"
   ]
  },
  {
   "cell_type": "code",
   "execution_count": 36,
   "metadata": {},
   "outputs": [],
   "source": [
    "my_dict = dict()\n",
    "for i, k in zip(jack,sData[0][:]):\n",
    "    my_dict[i] = k"
   ]
  },
  {
   "cell_type": "code",
   "execution_count": 37,
   "metadata": {},
   "outputs": [
    {
     "data": {
      "text/plain": [
       "{'t': 0.5,\n",
       " 'cond1_off': 0.0,\n",
       " 'cond1_on16h': 0.0,\n",
       " 'cond1_on16l': 0.0,\n",
       " 'cond1_on23h': 1.0,\n",
       " 'cond1_on23l': 0.0,\n",
       " 'cond1_on30l': 0.0,\n",
       " 'cond1_on30m': 0.0,\n",
       " 'cond2_off': 0.0,\n",
       " 'cond2_on16h': 1.0,\n",
       " 'cond2_on16l': 0.0,\n",
       " 'cond2_on16m': 0.0,\n",
       " 'cond2_on23h': 0.0,\n",
       " 'cond2_on23l': 0.0,\n",
       " 'cond2_on23m': 0.0,\n",
       " 'cond2_on30h': 0.0,\n",
       " 'cond2_on30l': 0.0,\n",
       " 'cond2_on30m': 0.0}"
      ]
     },
     "execution_count": 37,
     "metadata": {},
     "output_type": "execute_result"
    }
   ],
   "source": [
    "my_dict"
   ]
  },
  {
   "cell_type": "code",
   "execution_count": 63,
   "metadata": {},
   "outputs": [],
   "source": [
    "\n",
    "resp = requests.post('http://127.0.0.1:5000/predict/10', data = json.dumps(my_dict))\n"
   ]
  },
  {
   "cell_type": "code",
   "execution_count": 64,
   "metadata": {},
   "outputs": [
    {
     "name": "stdout",
     "output_type": "stream",
     "text": [
      "{'result': '[[24.896997213363647]]'}\n",
      " Real=[[24.]]\n"
     ]
    }
   ],
   "source": [
    "response = resp.json()\n",
    "print(response)\n",
    "ynew = scaler_y.inverse_transform(yscale[0:1])\n",
    "print(\" Real=%s\" % (ynew))"
   ]
  },
  {
   "cell_type": "code",
   "execution_count": null,
   "metadata": {},
   "outputs": [],
   "source": []
  }
 ],
 "metadata": {
  "kernelspec": {
   "display_name": "Python 3",
   "language": "python",
   "name": "python3"
  },
  "language_info": {
   "codemirror_mode": {
    "name": "ipython",
    "version": 3
   },
   "file_extension": ".py",
   "mimetype": "text/x-python",
   "name": "python",
   "nbconvert_exporter": "python",
   "pygments_lexer": "ipython3",
   "version": "3.7.3"
  }
 },
 "nbformat": 4,
 "nbformat_minor": 2
}
